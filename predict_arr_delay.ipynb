{
 "cells": [
  {
   "cell_type": "code",
   "execution_count": 31,
   "id": "a324630e",
   "metadata": {},
   "outputs": [],
   "source": [
    "import pandas as pd\n",
    "import numpy as np\n",
    "import matplotlib.pyplot as plt\n",
    "import seaborn as sns\n",
    "import datetime as dt\n",
    "import time\n",
    "import datetime"
   ]
  },
  {
   "cell_type": "code",
   "execution_count": 32,
   "id": "64ec72e8",
   "metadata": {},
   "outputs": [],
   "source": [
    "flights_test_2020 = pd.read_csv('data/flights_test_2020.csv')\n",
    "df = pd.read_csv('data/flights_test.csv')\n",
    "p_df = pd.read_csv('data/Merged_Table_1.csv')\n",
    "flights_test_2020.drop(columns='Unnamed: 0',inplace=True)"
   ]
  },
  {
   "cell_type": "code",
   "execution_count": 33,
   "id": "ee8ba981",
   "metadata": {},
   "outputs": [
    {
     "data": {
      "text/html": [
       "<div>\n",
       "<style scoped>\n",
       "    .dataframe tbody tr th:only-of-type {\n",
       "        vertical-align: middle;\n",
       "    }\n",
       "\n",
       "    .dataframe tbody tr th {\n",
       "        vertical-align: top;\n",
       "    }\n",
       "\n",
       "    .dataframe thead th {\n",
       "        text-align: right;\n",
       "    }\n",
       "</style>\n",
       "<table border=\"1\" class=\"dataframe\">\n",
       "  <thead>\n",
       "    <tr style=\"text-align: right;\">\n",
       "      <th></th>\n",
       "      <th>date_format</th>\n",
       "      <th>fl_date</th>\n",
       "      <th>mkt_unique_carrier</th>\n",
       "      <th>branded_code_share</th>\n",
       "      <th>mkt_carrier</th>\n",
       "      <th>mkt_carrier_fl_num</th>\n",
       "      <th>op_unique_carrier</th>\n",
       "      <th>tail_num</th>\n",
       "      <th>op_carrier_fl_num</th>\n",
       "      <th>origin_airport_id</th>\n",
       "      <th>...</th>\n",
       "      <th>origin_city_name</th>\n",
       "      <th>dest_airport_id</th>\n",
       "      <th>dest</th>\n",
       "      <th>dest_city_name</th>\n",
       "      <th>crs_dep_time</th>\n",
       "      <th>crs_arr_time</th>\n",
       "      <th>dup</th>\n",
       "      <th>crs_elapsed_time</th>\n",
       "      <th>flights</th>\n",
       "      <th>distance</th>\n",
       "    </tr>\n",
       "  </thead>\n",
       "  <tbody>\n",
       "    <tr>\n",
       "      <th>0</th>\n",
       "      <td>2020-01-01</td>\n",
       "      <td>1577854800000</td>\n",
       "      <td>WN</td>\n",
       "      <td>WN</td>\n",
       "      <td>WN</td>\n",
       "      <td>5888</td>\n",
       "      <td>WN</td>\n",
       "      <td>N951WN</td>\n",
       "      <td>5888</td>\n",
       "      <td>13891</td>\n",
       "      <td>...</td>\n",
       "      <td>Ontario, CA</td>\n",
       "      <td>14771</td>\n",
       "      <td>SFO</td>\n",
       "      <td>San Francisco, CA</td>\n",
       "      <td>1810</td>\n",
       "      <td>1945</td>\n",
       "      <td>N</td>\n",
       "      <td>95</td>\n",
       "      <td>1</td>\n",
       "      <td>363</td>\n",
       "    </tr>\n",
       "    <tr>\n",
       "      <th>1</th>\n",
       "      <td>2020-01-01</td>\n",
       "      <td>1577854800000</td>\n",
       "      <td>WN</td>\n",
       "      <td>WN</td>\n",
       "      <td>WN</td>\n",
       "      <td>6276</td>\n",
       "      <td>WN</td>\n",
       "      <td>N467WN</td>\n",
       "      <td>6276</td>\n",
       "      <td>13891</td>\n",
       "      <td>...</td>\n",
       "      <td>Ontario, CA</td>\n",
       "      <td>14771</td>\n",
       "      <td>SFO</td>\n",
       "      <td>San Francisco, CA</td>\n",
       "      <td>1150</td>\n",
       "      <td>1320</td>\n",
       "      <td>N</td>\n",
       "      <td>90</td>\n",
       "      <td>1</td>\n",
       "      <td>363</td>\n",
       "    </tr>\n",
       "    <tr>\n",
       "      <th>2</th>\n",
       "      <td>2020-01-01</td>\n",
       "      <td>1577854800000</td>\n",
       "      <td>WN</td>\n",
       "      <td>WN</td>\n",
       "      <td>WN</td>\n",
       "      <td>4598</td>\n",
       "      <td>WN</td>\n",
       "      <td>N7885A</td>\n",
       "      <td>4598</td>\n",
       "      <td>13891</td>\n",
       "      <td>...</td>\n",
       "      <td>Ontario, CA</td>\n",
       "      <td>14831</td>\n",
       "      <td>SJC</td>\n",
       "      <td>San Jose, CA</td>\n",
       "      <td>2020</td>\n",
       "      <td>2130</td>\n",
       "      <td>N</td>\n",
       "      <td>70</td>\n",
       "      <td>1</td>\n",
       "      <td>333</td>\n",
       "    </tr>\n",
       "    <tr>\n",
       "      <th>3</th>\n",
       "      <td>2020-01-01</td>\n",
       "      <td>1577854800000</td>\n",
       "      <td>WN</td>\n",
       "      <td>WN</td>\n",
       "      <td>WN</td>\n",
       "      <td>4761</td>\n",
       "      <td>WN</td>\n",
       "      <td>N551WN</td>\n",
       "      <td>4761</td>\n",
       "      <td>13891</td>\n",
       "      <td>...</td>\n",
       "      <td>Ontario, CA</td>\n",
       "      <td>14831</td>\n",
       "      <td>SJC</td>\n",
       "      <td>San Jose, CA</td>\n",
       "      <td>1340</td>\n",
       "      <td>1455</td>\n",
       "      <td>N</td>\n",
       "      <td>75</td>\n",
       "      <td>1</td>\n",
       "      <td>333</td>\n",
       "    </tr>\n",
       "    <tr>\n",
       "      <th>4</th>\n",
       "      <td>2020-01-01</td>\n",
       "      <td>1577854800000</td>\n",
       "      <td>WN</td>\n",
       "      <td>WN</td>\n",
       "      <td>WN</td>\n",
       "      <td>5162</td>\n",
       "      <td>WN</td>\n",
       "      <td>N968WN</td>\n",
       "      <td>5162</td>\n",
       "      <td>13891</td>\n",
       "      <td>...</td>\n",
       "      <td>Ontario, CA</td>\n",
       "      <td>14831</td>\n",
       "      <td>SJC</td>\n",
       "      <td>San Jose, CA</td>\n",
       "      <td>915</td>\n",
       "      <td>1035</td>\n",
       "      <td>N</td>\n",
       "      <td>80</td>\n",
       "      <td>1</td>\n",
       "      <td>333</td>\n",
       "    </tr>\n",
       "  </tbody>\n",
       "</table>\n",
       "<p>5 rows × 21 columns</p>\n",
       "</div>"
      ],
      "text/plain": [
       "  date_format        fl_date mkt_unique_carrier branded_code_share  \\\n",
       "0  2020-01-01  1577854800000                 WN                 WN   \n",
       "1  2020-01-01  1577854800000                 WN                 WN   \n",
       "2  2020-01-01  1577854800000                 WN                 WN   \n",
       "3  2020-01-01  1577854800000                 WN                 WN   \n",
       "4  2020-01-01  1577854800000                 WN                 WN   \n",
       "\n",
       "  mkt_carrier  mkt_carrier_fl_num op_unique_carrier tail_num  \\\n",
       "0          WN                5888                WN   N951WN   \n",
       "1          WN                6276                WN   N467WN   \n",
       "2          WN                4598                WN   N7885A   \n",
       "3          WN                4761                WN   N551WN   \n",
       "4          WN                5162                WN   N968WN   \n",
       "\n",
       "   op_carrier_fl_num  origin_airport_id  ... origin_city_name dest_airport_id  \\\n",
       "0               5888              13891  ...      Ontario, CA           14771   \n",
       "1               6276              13891  ...      Ontario, CA           14771   \n",
       "2               4598              13891  ...      Ontario, CA           14831   \n",
       "3               4761              13891  ...      Ontario, CA           14831   \n",
       "4               5162              13891  ...      Ontario, CA           14831   \n",
       "\n",
       "   dest     dest_city_name crs_dep_time  crs_arr_time  dup crs_elapsed_time  \\\n",
       "0   SFO  San Francisco, CA         1810          1945    N               95   \n",
       "1   SFO  San Francisco, CA         1150          1320    N               90   \n",
       "2   SJC       San Jose, CA         2020          2130    N               70   \n",
       "3   SJC       San Jose, CA         1340          1455    N               75   \n",
       "4   SJC       San Jose, CA          915          1035    N               80   \n",
       "\n",
       "   flights  distance  \n",
       "0        1       363  \n",
       "1        1       363  \n",
       "2        1       333  \n",
       "3        1       333  \n",
       "4        1       333  \n",
       "\n",
       "[5 rows x 21 columns]"
      ]
     },
     "execution_count": 33,
     "metadata": {},
     "output_type": "execute_result"
    }
   ],
   "source": [
    "df.head(5)"
   ]
  },
  {
   "cell_type": "code",
   "execution_count": 56,
   "id": "17a39196",
   "metadata": {},
   "outputs": [
    {
     "data": {
      "text/plain": [
       "((150623, 17),\n",
       " Index(['mkt_unique_carrier', 'origin_city_name', 'dest_city_name',\n",
       "        'crs_dep_time', 'crs_arr_time', 'crs_elapsed_time', 'distance',\n",
       "        'origin_city_condn', 'dest_city_cond', 'day', 'day_Week',\n",
       "        'Trip_count_PerDay', 'air_time', 'actual_elapsed_time',\n",
       "        'mkt_carrier_fl_num', 'Minutes_to_wheels_off',\n",
       "        'Minutes_from_wheels_on'],\n",
       "       dtype='object'))"
      ]
     },
     "execution_count": 56,
     "metadata": {},
     "output_type": "execute_result"
    }
   ],
   "source": [
    "flights_test_2020.shape, flights_test_2020.columns"
   ]
  },
  {
   "cell_type": "code",
   "execution_count": 57,
   "id": "cc0967d5",
   "metadata": {},
   "outputs": [
    {
     "data": {
      "text/plain": [
       "mkt_unique_carrier        0\n",
       "origin_city_name          0\n",
       "dest_city_name            0\n",
       "crs_dep_time              0\n",
       "crs_arr_time              0\n",
       "crs_elapsed_time          0\n",
       "distance                  0\n",
       "origin_city_condn         0\n",
       "dest_city_cond            0\n",
       "day                       0\n",
       "day_Week                  0\n",
       "Trip_count_PerDay         0\n",
       "air_time                  0\n",
       "actual_elapsed_time       0\n",
       "mkt_carrier_fl_num        0\n",
       "Minutes_to_wheels_off     0\n",
       "Minutes_from_wheels_on    0\n",
       "dtype: int64"
      ]
     },
     "execution_count": 57,
     "metadata": {},
     "output_type": "execute_result"
    }
   ],
   "source": [
    "flights_test_2020.isnull().sum()"
   ]
  },
  {
   "cell_type": "code",
   "execution_count": 36,
   "id": "bcbc09d9",
   "metadata": {},
   "outputs": [],
   "source": [
    "#extract day and dayofweek\n",
    "flights_test_2020['day'] = pd.DatetimeIndex(flights_test_2020['fl_date']).day\n",
    "flights_test_2020['day_Week'] = pd.DatetimeIndex(flights_test_2020['fl_date']).dayofweek\n",
    "flights_test_2020.drop(columns='fl_date',inplace=True)"
   ]
  },
  {
   "cell_type": "code",
   "execution_count": 37,
   "id": "b192246a",
   "metadata": {},
   "outputs": [],
   "source": [
    "def TripcountPerDay(df):\n",
    "    \"\"\"function to extract trip count per day per routes origin to dest city\"\"\"\n",
    "    import pandas as pd\n",
    "    df = df.groupby(['origin_city_name','dest_city_name'])['Trip_count_PerDay'].mean().round(0).astype(int)\n",
    "    return pd.DataFrame(df.reset_index())"
   ]
  },
  {
   "cell_type": "code",
   "execution_count": 38,
   "id": "11255993",
   "metadata": {},
   "outputs": [],
   "source": [
    "tripcountperday = TripcountPerDay(p_df)"
   ]
  },
  {
   "cell_type": "code",
   "execution_count": 39,
   "id": "8b7ea290",
   "metadata": {},
   "outputs": [],
   "source": [
    "#merge the trip count per day dataframe to flight_test data\n",
    "flights_test_2020 = pd.merge(flights_test_2020, tripcountperday,how='left', on=['origin_city_name','dest_city_name'])"
   ]
  },
  {
   "cell_type": "code",
   "execution_count": 40,
   "id": "09494762",
   "metadata": {},
   "outputs": [],
   "source": [
    "#fill na tripcount perday with mean\n",
    "flights_test_2020['Trip_count_PerDay'].fillna(flights_test_2020['Trip_count_PerDay'].mean(), inplace=True)\n",
    "flights_test_2020['Trip_count_PerDay'] = flights_test_2020['Trip_count_PerDay'].round(0).astype(int)"
   ]
  },
  {
   "cell_type": "code",
   "execution_count": 41,
   "id": "ddb9148b",
   "metadata": {},
   "outputs": [],
   "source": [
    "#extract features to predict air_time, wheels_off and actual_elapse_time\n",
    "X_woff = flights_test_2020[['crs_dep_time']]\n",
    "X_air_time = flights_test_2020[['distance']]\n",
    "X_actual_elapsed = flights_test_2020[['distance','crs_elapsed_time']]"
   ]
  },
  {
   "cell_type": "code",
   "execution_count": 42,
   "id": "0053d8d4",
   "metadata": {},
   "outputs": [],
   "source": [
    "#load the model from pickle\n",
    "import pickle\n",
    "wheels_off = pickle.load(open('features prediction/pred_wheels_off_model.sav', 'rb'))\n",
    "air_time = pickle.load(open('features prediction/air_time_pred_model.sav', 'rb'))\n",
    "actual_elapse_time = pickle.load(open('features prediction/pred_actual_elapsed_time_model.sav', 'rb'))\n",
    "\n",
    "pred_wheels_off = wheels_off.predict(X_woff)\n",
    "pred_air_time = air_time.predict(X_air_time)\n",
    "pred_actual_elapsed = actual_elapse_time.predict(X_actual_elapsed)"
   ]
  },
  {
   "cell_type": "code",
   "execution_count": 59,
   "id": "4c18894a",
   "metadata": {},
   "outputs": [],
   "source": [
    "flights_test_2020['wheels_off'] = pred_wheels_off.round(0).astype(int)\n",
    "flights_test_2020['air_time'] = pred_air_time.round(0).astype(int)\n",
    "flights_test_2020['actual_elapsed_time'] = pred_actual_elapsed.round(0).astype(int)\n",
    "flights_test_2020['mkt_carrier_fl_num'] = df['mkt_carrier_fl_num']\n",
    "flights_test_2020.rename(columns={'dest_city_cond': 'dest_city_condn'},inplace=True) "
   ]
  },
  {
   "cell_type": "code",
   "execution_count": 50,
   "id": "81b4ecda",
   "metadata": {},
   "outputs": [],
   "source": [
    "#format wheels_off and air_time\n",
    "from function_helpers import format_air_time\n",
    "from function_helpers import to_int_hour\n",
    "flights_test_2020['wheels_off'] = flights_test_2020['wheels_off'].apply(to_int_hour)\n",
    "flights_test_2020['air_time'] = flights_test_2020['air_time'].apply(format_air_time)\n",
    "\n",
    "#calculate the wheels_on (wheels_off + air_time)\n",
    "flights_test_2020['wheels_on'] = flights_test_2020['wheels_off'].astype(int) + flights_test_2020['air_time'].astype(int)\n",
    "flights_test_2020['wheels_on'] = flights_test_2020['wheels_on'].apply(to_int_hour)\n",
    "\n",
    "#calcualte the 'Minutes_to_wheels_off', 'Minutes_from_wheels_on'\n",
    "flights_test_2020['Minutes_to_wheels_off'] = flights_test_2020['wheels_off'].astype(int) - flights_test_2020['crs_dep_time'].astype(int)*100\n",
    "flights_test_2020['Minutes_from_wheels_on'] = flights_test_2020['wheels_on'].astype(int) - flights_test_2020['crs_arr_time'].astype(int)*100\n",
    "\n",
    "#drop wheels_off, wheels_on\n",
    "flights_test_2020.drop(columns=['wheels_off','wheels_on'],inplace=True)"
   ]
  },
  {
   "cell_type": "code",
   "execution_count": 79,
   "id": "715da85b",
   "metadata": {},
   "outputs": [
    {
     "data": {
      "text/html": [
       "<div>\n",
       "<style scoped>\n",
       "    .dataframe tbody tr th:only-of-type {\n",
       "        vertical-align: middle;\n",
       "    }\n",
       "\n",
       "    .dataframe tbody tr th {\n",
       "        vertical-align: top;\n",
       "    }\n",
       "\n",
       "    .dataframe thead th {\n",
       "        text-align: right;\n",
       "    }\n",
       "</style>\n",
       "<table border=\"1\" class=\"dataframe\">\n",
       "  <thead>\n",
       "    <tr style=\"text-align: right;\">\n",
       "      <th></th>\n",
       "      <th>mkt_unique_carrier</th>\n",
       "      <th>mkt_carrier_fl_num</th>\n",
       "      <th>origin_city_name</th>\n",
       "      <th>dest_city_name</th>\n",
       "      <th>crs_dep_time</th>\n",
       "      <th>crs_arr_time</th>\n",
       "      <th>crs_elapsed_time</th>\n",
       "      <th>actual_elapsed_time</th>\n",
       "      <th>air_time</th>\n",
       "      <th>distance</th>\n",
       "      <th>Trip_count_PerDay</th>\n",
       "      <th>origin_city_condn</th>\n",
       "      <th>dest_city_condn</th>\n",
       "      <th>Minutes_to_wheels_off</th>\n",
       "      <th>Minutes_from_wheels_on</th>\n",
       "      <th>day</th>\n",
       "      <th>day_Week</th>\n",
       "    </tr>\n",
       "  </thead>\n",
       "  <tbody>\n",
       "    <tr>\n",
       "      <th>0</th>\n",
       "      <td>9</td>\n",
       "      <td>5888</td>\n",
       "      <td>239</td>\n",
       "      <td>290</td>\n",
       "      <td>18</td>\n",
       "      <td>19</td>\n",
       "      <td>95</td>\n",
       "      <td>91</td>\n",
       "      <td>102</td>\n",
       "      <td>363</td>\n",
       "      <td>6</td>\n",
       "      <td>7</td>\n",
       "      <td>7</td>\n",
       "      <td>18</td>\n",
       "      <td>20</td>\n",
       "      <td>1</td>\n",
       "      <td>2</td>\n",
       "    </tr>\n",
       "    <tr>\n",
       "      <th>1</th>\n",
       "      <td>9</td>\n",
       "      <td>6276</td>\n",
       "      <td>239</td>\n",
       "      <td>290</td>\n",
       "      <td>11</td>\n",
       "      <td>13</td>\n",
       "      <td>90</td>\n",
       "      <td>87</td>\n",
       "      <td>102</td>\n",
       "      <td>363</td>\n",
       "      <td>6</td>\n",
       "      <td>7</td>\n",
       "      <td>7</td>\n",
       "      <td>108</td>\n",
       "      <td>10</td>\n",
       "      <td>1</td>\n",
       "      <td>2</td>\n",
       "    </tr>\n",
       "    <tr>\n",
       "      <th>2</th>\n",
       "      <td>9</td>\n",
       "      <td>4598</td>\n",
       "      <td>239</td>\n",
       "      <td>291</td>\n",
       "      <td>20</td>\n",
       "      <td>21</td>\n",
       "      <td>70</td>\n",
       "      <td>70</td>\n",
       "      <td>058</td>\n",
       "      <td>333</td>\n",
       "      <td>11</td>\n",
       "      <td>7</td>\n",
       "      <td>1</td>\n",
       "      <td>4</td>\n",
       "      <td>2</td>\n",
       "      <td>1</td>\n",
       "      <td>2</td>\n",
       "    </tr>\n",
       "    <tr>\n",
       "      <th>3</th>\n",
       "      <td>9</td>\n",
       "      <td>4761</td>\n",
       "      <td>239</td>\n",
       "      <td>291</td>\n",
       "      <td>13</td>\n",
       "      <td>14</td>\n",
       "      <td>75</td>\n",
       "      <td>74</td>\n",
       "      <td>058</td>\n",
       "      <td>333</td>\n",
       "      <td>11</td>\n",
       "      <td>7</td>\n",
       "      <td>1</td>\n",
       "      <td>54</td>\n",
       "      <td>12</td>\n",
       "      <td>1</td>\n",
       "      <td>2</td>\n",
       "    </tr>\n",
       "    <tr>\n",
       "      <th>4</th>\n",
       "      <td>9</td>\n",
       "      <td>5162</td>\n",
       "      <td>239</td>\n",
       "      <td>291</td>\n",
       "      <td>9</td>\n",
       "      <td>10</td>\n",
       "      <td>80</td>\n",
       "      <td>78</td>\n",
       "      <td>058</td>\n",
       "      <td>333</td>\n",
       "      <td>11</td>\n",
       "      <td>7</td>\n",
       "      <td>1</td>\n",
       "      <td>122</td>\n",
       "      <td>120</td>\n",
       "      <td>1</td>\n",
       "      <td>2</td>\n",
       "    </tr>\n",
       "  </tbody>\n",
       "</table>\n",
       "</div>"
      ],
      "text/plain": [
       "   mkt_unique_carrier  mkt_carrier_fl_num  origin_city_name  dest_city_name  \\\n",
       "0                   9                5888               239             290   \n",
       "1                   9                6276               239             290   \n",
       "2                   9                4598               239             291   \n",
       "3                   9                4761               239             291   \n",
       "4                   9                5162               239             291   \n",
       "\n",
       "   crs_dep_time  crs_arr_time  crs_elapsed_time  actual_elapsed_time air_time  \\\n",
       "0            18            19                95                   91      102   \n",
       "1            11            13                90                   87      102   \n",
       "2            20            21                70                   70      058   \n",
       "3            13            14                75                   74      058   \n",
       "4             9            10                80                   78      058   \n",
       "\n",
       "   distance  Trip_count_PerDay  origin_city_condn  dest_city_condn  \\\n",
       "0       363                  6                  7                7   \n",
       "1       363                  6                  7                7   \n",
       "2       333                 11                  7                1   \n",
       "3       333                 11                  7                1   \n",
       "4       333                 11                  7                1   \n",
       "\n",
       "   Minutes_to_wheels_off  Minutes_from_wheels_on  day  day_Week  \n",
       "0                     18                      20    1         2  \n",
       "1                    108                      10    1         2  \n",
       "2                      4                       2    1         2  \n",
       "3                     54                      12    1         2  \n",
       "4                    122                     120    1         2  "
      ]
     },
     "execution_count": 79,
     "metadata": {},
     "output_type": "execute_result"
    }
   ],
   "source": [
    "flights_test_2020.head(5)"
   ]
  },
  {
   "cell_type": "code",
   "execution_count": 61,
   "id": "a6547272",
   "metadata": {},
   "outputs": [],
   "source": [
    "#label encoder the mkt_unique_carrier,origin_city_name,dest_city_name,origin_city_condn,dest_city_cond\n",
    "from function_helpers import MultiColumnLabelEncoder\n",
    "\n",
    "cols = ['mkt_unique_carrier','origin_city_name','dest_city_name','origin_city_condn','dest_city_condn']\n",
    "multi = MultiColumnLabelEncoder(columns=cols)\n",
    "\n",
    "flights_test_2020 = multi.fit_transform(flights_test_2020)"
   ]
  },
  {
   "cell_type": "code",
   "execution_count": 82,
   "id": "4ce4cff7",
   "metadata": {},
   "outputs": [
    {
     "data": {
      "text/plain": [
       "array(['mkt_unique_carrier', 'mkt_carrier_fl_num', 'origin_city_name',\n",
       "       'dest_city_name', 'crs_dep_time', 'crs_arr_time',\n",
       "       'crs_elapsed_time', 'actual_elapsed_time', 'air_time', 'distance',\n",
       "       'Trip_count_PerDay', 'origin_city_condn', 'dest_city_condn',\n",
       "       'Minutes_to_wheels_off', 'Minutes_from_wheels_on', 'day',\n",
       "       'day_Week'], dtype=object)"
      ]
     },
     "execution_count": 82,
     "metadata": {},
     "output_type": "execute_result"
    }
   ],
   "source": [
    "#load pickle to predict arrial delay\n",
    "arr_delay = pickle.load(open('Models_predict_arr_delay/pred_arr_delay_model.sav', 'rb'))\n",
    "wheels_off.feature_names_in_"
   ]
  },
  {
   "cell_type": "code",
   "execution_count": 83,
   "id": "a9c65f16",
   "metadata": {},
   "outputs": [],
   "source": [
    "columns = wheels_off.feature_names_in_.tolist()\n",
    "flights_test_2020 = flights_test_2020[columns]"
   ]
  },
  {
   "cell_type": "code",
   "execution_count": 84,
   "id": "1836dc92",
   "metadata": {},
   "outputs": [
    {
     "data": {
      "text/plain": [
       "Index(['mkt_unique_carrier', 'mkt_carrier_fl_num', 'origin_city_name',\n",
       "       'dest_city_name', 'crs_dep_time', 'crs_arr_time', 'crs_elapsed_time',\n",
       "       'actual_elapsed_time', 'air_time', 'distance', 'Trip_count_PerDay',\n",
       "       'origin_city_condn', 'dest_city_condn', 'Minutes_to_wheels_off',\n",
       "       'Minutes_from_wheels_on', 'day', 'day_Week'],\n",
       "      dtype='object')"
      ]
     },
     "execution_count": 84,
     "metadata": {},
     "output_type": "execute_result"
    }
   ],
   "source": [
    "#make sure the columns in order as pickle models\n",
    "flights_test_2020.columns"
   ]
  },
  {
   "cell_type": "code",
   "execution_count": 88,
   "id": "122e6687",
   "metadata": {},
   "outputs": [
    {
     "data": {
      "text/plain": [
       "array([27.30727376, 18.69091064,  7.89      , ..., 43.16545532,\n",
       "       35.43      , 10.02455604])"
      ]
     },
     "execution_count": 88,
     "metadata": {},
     "output_type": "execute_result"
    }
   ],
   "source": [
    "#predict arr_delay\n",
    "arr_delay_preds = arr_delay.predict(flights_test_2020)\n",
    "arr_delay_preds"
   ]
  },
  {
   "cell_type": "code",
   "execution_count": 89,
   "id": "90747a12",
   "metadata": {},
   "outputs": [],
   "source": [
    "# reverse the labelencoder, get back informations\n",
    "flights_test_2020 = multi.inverse_transform(flights_test_2020)"
   ]
  },
  {
   "cell_type": "code",
   "execution_count": 93,
   "id": "2a37dcf7",
   "metadata": {},
   "outputs": [],
   "source": [
    "flights_test_2020['arr_delay'] = arr_delay_preds.round(3)"
   ]
  },
  {
   "cell_type": "code",
   "execution_count": 95,
   "id": "727a1d70",
   "metadata": {},
   "outputs": [],
   "source": [
    "flights_test_2020.to_csv('flights_2020_pred_arr_delay.csv')"
   ]
  },
  {
   "cell_type": "code",
   "execution_count": null,
   "id": "a6f3c3a1",
   "metadata": {},
   "outputs": [],
   "source": []
  }
 ],
 "metadata": {
  "kernelspec": {
   "display_name": "Python 3 (ipykernel)",
   "language": "python",
   "name": "python3"
  },
  "language_info": {
   "codemirror_mode": {
    "name": "ipython",
    "version": 3
   },
   "file_extension": ".py",
   "mimetype": "text/x-python",
   "name": "python",
   "nbconvert_exporter": "python",
   "pygments_lexer": "ipython3",
   "version": "3.9.13"
  }
 },
 "nbformat": 4,
 "nbformat_minor": 5
}
