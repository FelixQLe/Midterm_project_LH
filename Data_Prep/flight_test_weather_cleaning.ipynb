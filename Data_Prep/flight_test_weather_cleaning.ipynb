{
 "cells": [
  {
   "cell_type": "code",
   "execution_count": 1,
   "id": "39ce6519",
   "metadata": {},
   "outputs": [],
   "source": [
    "import pandas as pd\n",
    "import numpy as np"
   ]
  },
  {
   "cell_type": "code",
   "execution_count": 2,
   "id": "428a3878",
   "metadata": {},
   "outputs": [],
   "source": [
    "weather_df = pd.read_csv('flights_test_weather-2020.csv')"
   ]
  },
  {
   "cell_type": "code",
   "execution_count": 3,
   "id": "27aed489",
   "metadata": {},
   "outputs": [],
   "source": [
    "weather_df.rename(columns={'city': 'origin_city_name', 'date': 'fl_date'}, inplace=True)\n",
    "#weather_df.head(5)\n",
    "weather_df['origin_city_condn'] = np.nan"
   ]
  },
  {
   "cell_type": "code",
   "execution_count": 4,
   "id": "e71c74d2",
   "metadata": {},
   "outputs": [],
   "source": [
    "condition_dict = {'cloundy': ['Cloudy','Overcast'],\n",
    "                  'sunny': ['Partly cloudy','Sunny'],\n",
    "                  'low_snow' : ['Freezing drizzle','Patchy snow possible', 'Patchy light snow','Light snow'],\n",
    "                  'snow': ['Light snow showers','Moderate or heavy snow with thunder','Light showers of ice pellets','Light sleet','Moderate snow','Patchy heavy snow','Patchy moderate snow','Moderate or heavy snow showers'],\n",
    "                  'low_rainny': ['Mist','Patchy light drizzle','Light drizzle','Patchy rain possible','Light rain','Patchy sleet possible','Patchy light rain'],\n",
    "                  'rainny': ['Light rain shower','Patchy freezing drizzle possible','Patchy light rain with thunder','Heavy rain at times','Light sleet showers','Moderate or heavy rain with thunder','Heavy rain','Light freezing rain','Moderate rain','Moderate or heavy rain shower','Moderate rain at times'],\n",
    "                  'harzard': ['Thundery outbreaks possible','Blowing snow','Torrential rain shower','Freezing fog','Moderate or heavy freezing rain','Ice pellets','Fog','Moderate or heavy sleet','Heavy snow', 'Blizzard']\n",
    "                 }"
   ]
  },
  {
   "cell_type": "code",
   "execution_count": 5,
   "id": "e394bd4d",
   "metadata": {},
   "outputs": [],
   "source": [
    "for key, conditions in condition_dict.items():\n",
    "    for condition in conditions:\n",
    "        weather_df.loc[weather_df['condition'] == condition, \"origin_city_condn\"] = key"
   ]
  },
  {
   "cell_type": "code",
   "execution_count": 6,
   "id": "c1d45f96",
   "metadata": {},
   "outputs": [
    {
     "data": {
      "text/plain": [
       "(4897, 4)"
      ]
     },
     "execution_count": 6,
     "metadata": {},
     "output_type": "execute_result"
    }
   ],
   "source": [
    "weather_df.shape"
   ]
  },
  {
   "cell_type": "code",
   "execution_count": 7,
   "id": "b6c74656",
   "metadata": {},
   "outputs": [
    {
     "data": {
      "text/html": [
       "<div>\n",
       "<style scoped>\n",
       "    .dataframe tbody tr th:only-of-type {\n",
       "        vertical-align: middle;\n",
       "    }\n",
       "\n",
       "    .dataframe tbody tr th {\n",
       "        vertical-align: top;\n",
       "    }\n",
       "\n",
       "    .dataframe thead th {\n",
       "        text-align: right;\n",
       "    }\n",
       "</style>\n",
       "<table border=\"1\" class=\"dataframe\">\n",
       "  <thead>\n",
       "    <tr style=\"text-align: right;\">\n",
       "      <th></th>\n",
       "      <th>fl_date</th>\n",
       "      <th>origin_city_name</th>\n",
       "      <th>condition</th>\n",
       "      <th>origin_city_condn</th>\n",
       "    </tr>\n",
       "  </thead>\n",
       "  <tbody>\n",
       "    <tr>\n",
       "      <th>0</th>\n",
       "      <td>2020-01-01</td>\n",
       "      <td>Aberdeen, SD</td>\n",
       "      <td>Overcast</td>\n",
       "      <td>cloundy</td>\n",
       "    </tr>\n",
       "    <tr>\n",
       "      <th>1</th>\n",
       "      <td>2020-01-01</td>\n",
       "      <td>Abilene, TX</td>\n",
       "      <td>Partly cloudy</td>\n",
       "      <td>sunny</td>\n",
       "    </tr>\n",
       "    <tr>\n",
       "      <th>2</th>\n",
       "      <td>2020-01-01</td>\n",
       "      <td>Adak Island, AK</td>\n",
       "      <td>Moderate or heavy snow showers</td>\n",
       "      <td>snow</td>\n",
       "    </tr>\n",
       "    <tr>\n",
       "      <th>3</th>\n",
       "      <td>2020-01-01</td>\n",
       "      <td>Aguadilla, PR</td>\n",
       "      <td>Patchy rain possible</td>\n",
       "      <td>low_rainny</td>\n",
       "    </tr>\n",
       "    <tr>\n",
       "      <th>4</th>\n",
       "      <td>2020-01-01</td>\n",
       "      <td>Akron, OH</td>\n",
       "      <td>Heavy snow</td>\n",
       "      <td>harzard</td>\n",
       "    </tr>\n",
       "  </tbody>\n",
       "</table>\n",
       "</div>"
      ],
      "text/plain": [
       "      fl_date origin_city_name                       condition  \\\n",
       "0  2020-01-01     Aberdeen, SD                        Overcast   \n",
       "1  2020-01-01      Abilene, TX                   Partly cloudy   \n",
       "2  2020-01-01  Adak Island, AK  Moderate or heavy snow showers   \n",
       "3  2020-01-01    Aguadilla, PR            Patchy rain possible   \n",
       "4  2020-01-01        Akron, OH                      Heavy snow   \n",
       "\n",
       "  origin_city_condn  \n",
       "0           cloundy  \n",
       "1             sunny  \n",
       "2              snow  \n",
       "3        low_rainny  \n",
       "4           harzard  "
      ]
     },
     "execution_count": 7,
     "metadata": {},
     "output_type": "execute_result"
    }
   ],
   "source": [
    "weather_df.head(5)"
   ]
  },
  {
   "cell_type": "code",
   "execution_count": 9,
   "id": "295eae39",
   "metadata": {},
   "outputs": [
    {
     "data": {
      "text/plain": [
       "(14600, 2)"
      ]
     },
     "execution_count": 9,
     "metadata": {},
     "output_type": "execute_result"
    }
   ],
   "source": [
    "flights = pd.read_csv('data/flights-2018-2019.csv')\n",
    "origin_df = df[['fl_date', 'origin_city_name']]\n",
    "origin_df.shape"
   ]
  },
  {
   "cell_type": "code",
   "execution_count": 10,
   "id": "5dd15fb9",
   "metadata": {},
   "outputs": [
    {
     "data": {
      "text/html": [
       "<div>\n",
       "<style scoped>\n",
       "    .dataframe tbody tr th:only-of-type {\n",
       "        vertical-align: middle;\n",
       "    }\n",
       "\n",
       "    .dataframe tbody tr th {\n",
       "        vertical-align: top;\n",
       "    }\n",
       "\n",
       "    .dataframe thead th {\n",
       "        text-align: right;\n",
       "    }\n",
       "</style>\n",
       "<table border=\"1\" class=\"dataframe\">\n",
       "  <thead>\n",
       "    <tr style=\"text-align: right;\">\n",
       "      <th></th>\n",
       "      <th>fl_date</th>\n",
       "      <th>origin_city_name</th>\n",
       "    </tr>\n",
       "  </thead>\n",
       "  <tbody>\n",
       "    <tr>\n",
       "      <th>0</th>\n",
       "      <td>2018-01-01</td>\n",
       "      <td>Tampa, FL</td>\n",
       "    </tr>\n",
       "    <tr>\n",
       "      <th>1</th>\n",
       "      <td>2018-01-01</td>\n",
       "      <td>New Orleans, LA</td>\n",
       "    </tr>\n",
       "    <tr>\n",
       "      <th>2</th>\n",
       "      <td>2018-01-01</td>\n",
       "      <td>New Orleans, LA</td>\n",
       "    </tr>\n",
       "    <tr>\n",
       "      <th>3</th>\n",
       "      <td>2018-01-01</td>\n",
       "      <td>New Orleans, LA</td>\n",
       "    </tr>\n",
       "    <tr>\n",
       "      <th>4</th>\n",
       "      <td>2018-01-01</td>\n",
       "      <td>New Orleans, LA</td>\n",
       "    </tr>\n",
       "  </tbody>\n",
       "</table>\n",
       "</div>"
      ],
      "text/plain": [
       "      fl_date origin_city_name\n",
       "0  2018-01-01        Tampa, FL\n",
       "1  2018-01-01  New Orleans, LA\n",
       "2  2018-01-01  New Orleans, LA\n",
       "3  2018-01-01  New Orleans, LA\n",
       "4  2018-01-01  New Orleans, LA"
      ]
     },
     "execution_count": 10,
     "metadata": {},
     "output_type": "execute_result"
    }
   ],
   "source": [
    "origin_df.head(5)"
   ]
  },
  {
   "cell_type": "code",
   "execution_count": null,
   "id": "4f5f207e",
   "metadata": {},
   "outputs": [],
   "source": []
  }
 ],
 "metadata": {
  "kernelspec": {
   "display_name": "Python 3 (ipykernel)",
   "language": "python",
   "name": "python3"
  },
  "language_info": {
   "codemirror_mode": {
    "name": "ipython",
    "version": 3
   },
   "file_extension": ".py",
   "mimetype": "text/x-python",
   "name": "python",
   "nbconvert_exporter": "python",
   "pygments_lexer": "ipython3",
   "version": "3.9.13"
  }
 },
 "nbformat": 4,
 "nbformat_minor": 5
}
