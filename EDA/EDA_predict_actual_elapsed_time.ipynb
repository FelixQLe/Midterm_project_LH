{
 "cells": [
  {
   "cell_type": "code",
   "execution_count": 1,
   "id": "0e106aa7",
   "metadata": {},
   "outputs": [],
   "source": [
    "import pandas as pd\n",
    "import numpy as np\n",
    "from sklearn.preprocessing import StandardScaler\n",
    "from sklearn.model_selection import train_test_split\n",
    "from sklearn.linear_model import LinearRegression\n",
    "from sklearn.svm import SVR\n",
    "from sklearn.ensemble import RandomForestRegressor, StackingRegressor\n",
    "import time\n",
    "from sklearn.metrics import mean_squared_error\n",
    "import matplotlib.pyplot as plt"
   ]
  },
  {
   "cell_type": "code",
   "execution_count": 37,
   "id": "4342acd0",
   "metadata": {},
   "outputs": [],
   "source": [
    "#extract columns from data\n",
    "extr_cols = ['distance','crs_elapsed_time','actual_elapsed_time']"
   ]
  },
  {
   "cell_type": "code",
   "execution_count": 19,
   "id": "9cf320c5",
   "metadata": {},
   "outputs": [],
   "source": [
    "#loading data\n",
    "df = pd.read_csv('data/Final_Table_2.csv')\n"
   ]
  },
  {
   "cell_type": "code",
   "execution_count": 39,
   "id": "217ebb41",
   "metadata": {},
   "outputs": [],
   "source": [
    "avail_df = df[extr_cols]"
   ]
  },
  {
   "cell_type": "code",
   "execution_count": 40,
   "id": "8be38c5f",
   "metadata": {},
   "outputs": [
    {
     "data": {
      "text/html": [
       "<div>\n",
       "<style scoped>\n",
       "    .dataframe tbody tr th:only-of-type {\n",
       "        vertical-align: middle;\n",
       "    }\n",
       "\n",
       "    .dataframe tbody tr th {\n",
       "        vertical-align: top;\n",
       "    }\n",
       "\n",
       "    .dataframe thead th {\n",
       "        text-align: right;\n",
       "    }\n",
       "</style>\n",
       "<table border=\"1\" class=\"dataframe\">\n",
       "  <thead>\n",
       "    <tr style=\"text-align: right;\">\n",
       "      <th></th>\n",
       "      <th>distance</th>\n",
       "      <th>crs_elapsed_time</th>\n",
       "      <th>actual_elapsed_time</th>\n",
       "    </tr>\n",
       "  </thead>\n",
       "  <tbody>\n",
       "    <tr>\n",
       "      <th>0</th>\n",
       "      <td>1130</td>\n",
       "      <td>160</td>\n",
       "      <td>153.0</td>\n",
       "    </tr>\n",
       "    <tr>\n",
       "      <th>1</th>\n",
       "      <td>302</td>\n",
       "      <td>75</td>\n",
       "      <td>69.0</td>\n",
       "    </tr>\n",
       "    <tr>\n",
       "      <th>2</th>\n",
       "      <td>551</td>\n",
       "      <td>100</td>\n",
       "      <td>86.0</td>\n",
       "    </tr>\n",
       "    <tr>\n",
       "      <th>3</th>\n",
       "      <td>1903</td>\n",
       "      <td>290</td>\n",
       "      <td>283.0</td>\n",
       "    </tr>\n",
       "    <tr>\n",
       "      <th>4</th>\n",
       "      <td>604</td>\n",
       "      <td>105</td>\n",
       "      <td>125.0</td>\n",
       "    </tr>\n",
       "  </tbody>\n",
       "</table>\n",
       "</div>"
      ],
      "text/plain": [
       "   distance  crs_elapsed_time  actual_elapsed_time\n",
       "0      1130               160                153.0\n",
       "1       302                75                 69.0\n",
       "2       551               100                 86.0\n",
       "3      1903               290                283.0\n",
       "4       604               105                125.0"
      ]
     },
     "execution_count": 40,
     "metadata": {},
     "output_type": "execute_result"
    }
   ],
   "source": [
    "avail_df.head(5)"
   ]
  },
  {
   "cell_type": "code",
   "execution_count": 33,
   "id": "e6b30d12",
   "metadata": {},
   "outputs": [
    {
     "data": {
      "image/png": "[encoded data removed]",
      "text/plain": [
       "<Figure size 432x288 with 1 Axes>"
      ]
     },
     "metadata": {
      "needs_background": "light"
     },
     "output_type": "display_data"
    }
   ],
   "source": [
    "#plotting Liear regression line to show liear relationship between distance and 'actual_elapsed_time'\n",
    "m, b = np.polyfit(avail_df['distance'], avail_df['actual_elapsed_time'], 1)\n",
    "plt.scatter(avail_df['distance'], avail_df['actual_elapsed_time'], color = \"red\")\n",
    "plt.plot(df['distance'], m*df['distance']+b)\n",
    "plt.title(\"distance vs actual_elapsed_time\")\n",
    "plt.xlabel(\"distance\")\n",
    "plt.ylabel(\"actual_elapsed_time\")\n",
    "plt.show()"
   ]
  },
  {
   "cell_type": "code",
   "execution_count": 43,
   "id": "4936884c",
   "metadata": {},
   "outputs": [],
   "source": [
    "#extract X,y for train and testing data\n",
    "X = avail_df.drop(columns = ['actual_elapsed_time'])\n",
    "y = df['actual_elapsed_time']\n",
    "X_train, X_test, y_train, y_test = train_test_split(X, y,train_size=0.80,test_size=0.20, random_state=42)"
   ]
  },
  {
   "cell_type": "code",
   "execution_count": 44,
   "id": "1940a429",
   "metadata": {},
   "outputs": [
    {
     "data": {
      "text/plain": [
       "Index(['distance', 'crs_elapsed_time'], dtype='object')"
      ]
     },
     "execution_count": 44,
     "metadata": {},
     "output_type": "execute_result"
    }
   ],
   "source": [
    "X.columns"
   ]
  },
  {
   "cell_type": "code",
   "execution_count": 35,
   "id": "12ab4951",
   "metadata": {},
   "outputs": [],
   "source": [
    "# setting the base estimators as the base models and final estimator with a linear regression with 5 cross folds.\n",
    "\n",
    "# using different models to compare the accuracy power\n",
    "base_models = [\n",
    "    ('Linear Regression',LinearRegression()),\n",
    "    ('SVR',SVR()),\n",
    "    ('Random Forest',RandomForestRegressor()),\n",
    "    ]\n",
    "stacked = StackingRegressor(\n",
    "    estimators = [\n",
    "                    ('Linear Regression',LinearRegression()),\n",
    "                    ('SVR',SVR()),\n",
    "                    ('Random Forest',RandomForestRegressor()),\n",
    "                ],\n",
    "    final_estimator = LinearRegression(),\n",
    "    cv = 5)"
   ]
  },
  {
   "cell_type": "code",
   "execution_count": 36,
   "id": "4c96c39e",
   "metadata": {},
   "outputs": [
    {
     "name": "stdout",
     "output_type": "stream",
     "text": [
      "-------Linear Regression-------\n",
      "Coefficient of determination: 0.948120852887921\n",
      "Computation Time: 0.006748199462890625\n",
      "----------------------------------\n",
      "\n",
      "-------SVR-------\n",
      "Coefficient of determination: 0.8750943657482511\n",
      "Computation Time: 3.518834352493286\n",
      "----------------------------------\n",
      "\n",
      "-------Random Forest-------\n",
      "Coefficient of determination: 0.931540676441217\n",
      "Computation Time: 0.8914291858673096\n",
      "----------------------------------\n",
      "\n",
      "-------Stacked Ensemble-------\n",
      "Coefficient of determination: 0.9501080600618086\n",
      "Computation Time: 28.472004175186157\n",
      "----------------------------------\n"
     ]
    }
   ],
   "source": [
    "# Base Model \n",
    "for name, model in base_models:\n",
    "    start_time = time.time()\n",
    "    model.fit(X_train, y_train)\n",
    "    prediction = model.predict(X_test)\n",
    "    end_time = time.time()\n",
    "    \n",
    "    r2 = model.score(X_test, y_test)\n",
    "    print(\"-------{}-------\".format(name))\n",
    "    print(\"Coefficient of determination: {}\".format(r2))\n",
    "    print(\"Computation Time: {}\".format(end_time - start_time))\n",
    "    print(\"----------------------------------\\n\")\n",
    "start_time = time.time()\n",
    "\n",
    "# Stacked Model \n",
    "start_time = time.time()\n",
    "stacked.fit(X_train, y_train)    \n",
    "stacked_prediction = stacked.predict(X_test)\n",
    "end_time = time.time()\n",
    "stacked_r2 = stacked.score(X_test, y_test)\n",
    "stacked_rmse = mean_squared_error(y_test, stacked_prediction, squared = False)\n",
    "print(\"-------Stacked Ensemble-------\")\n",
    "print(\"Coefficient of determination: {}\".format(stacked_r2))\n",
    "print(\"Computation Time: {}\".format(end_time - start_time))\n",
    "print(\"----------------------------------\")\n",
    "\n",
    "#stacked model using, Liear, SVR, Random Forest, and final decision: Liear Regression\n",
    "#able to acchieve 0.02% higher score compare to Liear Model\n",
    "\n",
    "#but its worth to mention that, cost-realatings will increase significantly, as time performance increases from 0.006s to 28.47\n",
    "#therefore I will choose Liear to predict actual_elapsed_time feature"
   ]
  },
  {
   "cell_type": "code",
   "execution_count": 42,
   "id": "1d947dd1",
   "metadata": {},
   "outputs": [],
   "source": [
    "# Fit the model on training set\n",
    "import pickle\n",
    "model = LinearRegression()\n",
    "model.fit(X_train, y_train)\n",
    "# save the model to disk, using 'distance', 'crs_elapsed_time' to predict\n",
    "filename = 'pred_actual_elapsed_time_model.sav'\n",
    "pickle.dump(model, open(filename, 'wb'))\n",
    " "
   ]
  },
  {
   "cell_type": "code",
   "execution_count": null,
   "id": "b6b5bebe",
   "metadata": {},
   "outputs": [],
   "source": []
  }
 ],
 "metadata": {
  "kernelspec": {
   "display_name": "Python 3 (ipykernel)",
   "language": "python",
   "name": "python3"
  },
  "language_info": {
   "codemirror_mode": {
    "name": "ipython",
    "version": 3
   },
   "file_extension": ".py",
   "mimetype": "text/x-python",
   "name": "python",
   "nbconvert_exporter": "python",
   "pygments_lexer": "ipython3",
   "version": "3.9.13"
  }
 },
 "nbformat": 4,
 "nbformat_minor": 5
}
